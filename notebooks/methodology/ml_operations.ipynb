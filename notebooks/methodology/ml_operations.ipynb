{
 "cells": [
  {
   "cell_type": "markdown",
   "metadata": {},
   "source": [
    "<img src=\"../../images/greenly_tech.png\" width=\"200\" style=\"float: right; margin-right: 7px; margin-top: 7px;\" />\n",
    "\n",
    "# Machine Learning Operations\n",
    "\n",
    "https://ml-ops.org/"
   ]
  },
  {
   "cell_type": "markdown",
   "metadata": {},
   "source": [
    "## Three Levels of Change\n",
    "\n",
    "https://ml-ops.org/content/motivation"
   ]
  },
  {
   "cell_type": "markdown",
   "metadata": {},
   "source": [
    "<img src=\"../../images/levels_of_change.jpg\" width=\"400\">"
   ]
  },
  {
   "cell_type": "markdown",
   "metadata": {},
   "source": [
    "## Machine Learning Engineering\n",
    "\n",
    "https://ml-ops.org/content/end-to-end-ml-workflow\n",
    "\n",
    "https://ml-ops.org/content/three-levels-of-ml-software"
   ]
  },
  {
   "cell_type": "markdown",
   "metadata": {},
   "source": [
    "<img src=\"../../images/ml_engineering.jpeg\" width=\"700\">"
   ]
  },
  {
   "cell_type": "markdown",
   "metadata": {},
   "source": [
    "### Data: Data Engineering Pipelines\n",
    "\n",
    "- Data Ingestion\n",
    "- Exploration and Validation\n",
    "- Data Wrangling (Cleaning)\n",
    "- Data Splitting"
   ]
  },
  {
   "cell_type": "markdown",
   "metadata": {},
   "source": [
    "### Model: Machine Learning Pipelines\n",
    "\n",
    "- Model Training\n",
    "- Model Evaluation\n",
    "- Model Testing\n",
    "- Model Packaging"
   ]
  },
  {
   "cell_type": "markdown",
   "metadata": {},
   "source": [
    "<img src=\"../../images/model_patterns.jpg\" width=\"500\">\n",
    "<img src=\"../../images/model_services.jpeg\" width=\"500\">\n",
    "<img src=\"../../images/model_online.jpeg\" width=\"400\">"
   ]
  },
  {
   "cell_type": "markdown",
   "metadata": {},
   "source": [
    "### Code: Deployment Pipelines\n",
    "\n",
    "- Model Serving\n",
    "- Model Performance Monitoring\n",
    "- Model Performance Logging"
   ]
  },
  {
   "cell_type": "markdown",
   "metadata": {},
   "source": [
    "#### Model Serving Patterns\n",
    "\n",
    "<img src=\"../../images/model_as_service.jpg\" width=\"600\">\n",
    "<img src=\"../../images/model_as_dependency.jpg\" width=\"300\">\n",
    "<img src=\"../../images/precompute_serving.jpeg\" width=\"300\">\n",
    "<img src=\"../../images/model_on_demand.jpeg\" width=\"400\">\n",
    "<img src=\"../../images/federated_learning.jpeg\" width=\"500\">"
   ]
  },
  {
   "cell_type": "markdown",
   "metadata": {},
   "source": [
    "#### Deployment Strategies\n",
    "\n",
    "<img src=\"../../images/infra_cloud.jpg\" width=\"400\">\n",
    "<img src=\"../../images/infra_lambda.jpeg\" width=\"400\">"
   ]
  },
  {
   "cell_type": "markdown",
   "metadata": {},
   "source": [
    "## MLOps Principles\n",
    "\n",
    "https://ml-ops.org/content/mlops-principles"
   ]
  },
  {
   "cell_type": "markdown",
   "metadata": {},
   "source": [
    "### Iterative-Incremental Process in MLOps\n",
    "\n",
    "<img src=\"../../images/mlops_loop_en.jpeg\" width=\"400\">"
   ]
  },
  {
   "cell_type": "markdown",
   "metadata": {},
   "source": [
    "### Automation\n",
    "\n",
    "<img src=\"../../images/mlops_phasen.jpeg\" width=\"600\">"
   ]
  },
  {
   "cell_type": "markdown",
   "metadata": {},
   "source": [
    "### Continuous X\n",
    "\n",
    "- **Continuous Integration (CI)** extends the testing and validating code and components by adding testing and validating data and models.\n",
    "- **Continuous Delivery (CD)** concerns with delivery of an ML training pipeline that automatically deploys another the ML model prediction service.\n",
    "- **Continuous Training (CT)** is unique to ML systems property, which automatically retrains ML models for re-deployment.\n",
    "- **Continuous Monitoring (CM)** concerns with monitoring production data and model performance metrics, which are bound to business metrics."
   ]
  },
  {
   "cell_type": "markdown",
   "metadata": {},
   "source": [
    "### Model Decay Monitoring\n",
    "\n",
    "<img src=\"../../images/model_decay.jpeg\" width=\"500\">\n",
    "\n",
    "[Semantic Versioning](../../images/semantic_versioning.png)"
   ]
  },
  {
   "cell_type": "markdown",
   "metadata": {},
   "source": [
    "### MLOps Maturity Level\n",
    "\n",
    "<img src=\"../../images/ai_readiness.jpeg\" width=\"500\">"
   ]
  },
  {
   "cell_type": "markdown",
   "metadata": {},
   "source": [
    "### Summary and Best Practices\n",
    "\n",
    "<img src=\"../../images/mlops_principles.png\" width=\"900\">"
   ]
  }
 ],
 "metadata": {
  "kernelspec": {
   "display_name": ".venv",
   "language": "python",
   "name": "python3"
  },
  "language_info": {
   "codemirror_mode": {
    "name": "ipython",
    "version": 3
   },
   "file_extension": ".py",
   "mimetype": "text/x-python",
   "name": "python",
   "nbconvert_exporter": "python",
   "pygments_lexer": "ipython3",
   "version": "3.11.9"
  }
 },
 "nbformat": 4,
 "nbformat_minor": 2
}
