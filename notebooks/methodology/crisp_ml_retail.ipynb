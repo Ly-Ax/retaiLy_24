{
 "cells": [
  {
   "cell_type": "markdown",
   "metadata": {
    "id": "DqybkyDZIasZ"
   },
   "source": [
    "<img src=\"../../images/greenly_tech.png\" width=\"200\" style=\"float: right; margin-right: 7px; margin-top: 7px;\" />\n",
    "\n",
    "# CRISP-ML(Q): Retail ML\n",
    "\n",
    "Cross-Industry Standard Process for the development of Machine Learning applications with Quality\n",
    "\n",
    "https://ml-ops.org/content/crisp-ml"
   ]
  },
  {
   "cell_type": "markdown",
   "metadata": {},
   "source": [
    "<img src=\"../../images/crisp_ml_process.jpg\" width=\"700\">"
   ]
  },
  {
   "cell_type": "markdown",
   "metadata": {},
   "source": [
    "## 1. Business and Data Understanding\n",
    "\n",
    "- Define business objectives\n",
    "- Translate business objectives into ML objectives\n",
    "- Collect and verify data\n",
    "- Assess the project feasibility\n",
    "- Create POC"
   ]
  },
  {
   "cell_type": "markdown",
   "metadata": {},
   "source": [
    "### MLOps Stack Canvas\n",
    "\n",
    "https://ml-ops.org/content/phase-zero\n",
    "\n",
    "https://ml-ops.org/content/mlops-stack-canvas"
   ]
  },
  {
   "cell_type": "markdown",
   "metadata": {},
   "source": [
    "<img src=\"../../images/mlops_stack.jpg\" width=\"700\">\n",
    "\n",
    "[The Machine Learning Canvas V1.1](../../images/ml_canvas_v1_1.jpg)\n",
    "\n",
    "[MLOps Stack Canvas V1.0](../../images/mlops_stack_base.jpeg)"
   ]
  },
  {
   "cell_type": "markdown",
   "metadata": {},
   "source": [
    "Related Notebooks: \n",
    "\n",
    "[Exploratory Data Analysis](../../notebooks/transform/data_exploration.ipynb)"
   ]
  },
  {
   "cell_type": "markdown",
   "metadata": {},
   "source": [
    "## 2. Data Engineering\n",
    "\n",
    "- Feature selection\n",
    "- Data selection\n",
    "- Class balancing\n",
    "- Cleaning data (noise reduction, data imputation)\n",
    "- Feature engineering (data construction)\n",
    "- Data augmentation\n",
    "- Data standartization"
   ]
  },
  {
   "cell_type": "markdown",
   "metadata": {},
   "source": [
    "## 3. ML Model Engineering\n",
    "\n",
    "- Define quality measure of the model\n",
    "- ML algorithm selection (baseline selection)\n",
    "- Adding domain knowledge to specialize the model\n",
    "- Model training\n",
    "- Optional: applying trainsfer learning (using pre-trained models)\n",
    "- Model compression\n",
    "- Ensemble learning\n",
    "- Documenting the ML model and experiments"
   ]
  },
  {
   "cell_type": "markdown",
   "metadata": {},
   "source": [
    "## 4. ML Model Evaluation\n",
    "\n",
    "- Validate model's performance\n",
    "- Determine robustess\n",
    "- Increase model's explainability\n",
    "- Make a decision whether to deploy the model\n",
    "- Document the evaluation phase"
   ]
  },
  {
   "cell_type": "markdown",
   "metadata": {},
   "source": [
    "## 5. Model Deployment\n",
    "\n",
    "- Evaluate model under production condition\n",
    "- Assure user acceptance and usability\n",
    "- Model governance\n",
    "- Deploy according to the selected strategy (A/B testing, multi-armed bandits)"
   ]
  },
  {
   "cell_type": "markdown",
   "metadata": {},
   "source": [
    "## 6. Monitoring and Maintenance\n",
    "\n",
    "- Monitor the efficiency and efficacy of the model prediction serving\n",
    "- Compare to the previously specified success criteria (thresholds)\n",
    "- Retrain model if required\n",
    "- Collect new data\n",
    "- Perform labelling of the new data points\n",
    "- Repeat tasks from the *Model Engineering* and *Model Evaluation* phases\n",
    "- Continuous, integration, training, and deployment of the model"
   ]
  }
 ],
 "metadata": {
  "colab": {
   "authorship_tag": "ABX9TyM+Px0TiTmEJrsj9FSkqllZ",
   "machine_shape": "hm",
   "provenance": [],
   "toc_visible": true
  },
  "kernelspec": {
   "display_name": ".venv",
   "language": "python",
   "name": "python3"
  },
  "language_info": {
   "codemirror_mode": {
    "name": "ipython",
    "version": 3
   },
   "file_extension": ".py",
   "mimetype": "text/x-python",
   "name": "python",
   "nbconvert_exporter": "python",
   "pygments_lexer": "ipython3",
   "version": "3.11.9"
  }
 },
 "nbformat": 4,
 "nbformat_minor": 0
}
